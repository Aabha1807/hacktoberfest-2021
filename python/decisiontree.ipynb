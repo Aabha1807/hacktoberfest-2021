{
  "nbformat": 4,
  "nbformat_minor": 0,
  "metadata": {
    "colab": {
      "name": "e19cse029_week7_part1.ipynb",
      "provenance": [],
      "collapsed_sections": []
    },
    "kernelspec": {
      "name": "python3",
      "display_name": "Python 3"
    },
    "language_info": {
      "name": "python"
    }
  },
  "cells": [
    {
      "cell_type": "markdown",
      "metadata": {
        "id": "CukeBLnEOOZA"
      },
      "source": [
        "#Aabha Bothera\n",
        "#e19cse029"
      ]
    },
    {
      "cell_type": "code",
      "metadata": {
        "id": "fW8gNMAjbd4x"
      },
      "source": [
        "# importing libraries\n",
        "import numpy as np\n",
        "import pandas as pd\n",
        "import matplotlib.pyplot as plt\n",
        "from sklearn.preprocessing import OneHotEncoder, StandardScaler\n",
        "from sklearn.model_selection import train_test_split\n",
        "from sklearn.preprocessing import MultiLabelBinarizer\n",
        "from sklearn.metrics import r2_score, mean_squared_error, median_absolute_error,mean_absolute_error,explained_variance_score,max_error\n",
        "from sklearn.metrics import confusion_matrix\n",
        "from sklearn.metrics import precision_score\n",
        "from sklearn.metrics import recall_score\n",
        "from sklearn.tree import DecisionTreeClassifier\n",
        "from sklearn import metrics\n",
        "import re"
      ],
      "execution_count": null,
      "outputs": []
    },
    {
      "cell_type": "markdown",
      "metadata": {
        "id": "a10BUwbGBIbE"
      },
      "source": [
        "**DATASET**"
      ]
    },
    {
      "cell_type": "code",
      "metadata": {
        "id": "575V7U5KKIua"
      },
      "source": [
        "from google.colab import files\n",
        "uploaded = files.upload()"
      ],
      "execution_count": null,
      "outputs": []
    },
    {
      "cell_type": "code",
      "metadata": {
        "id": "fEU1UT5k_Vaw"
      },
      "source": [
        "data = pd.read_csv(\"speeddating.csv\")\n",
        "data.head()"
      ],
      "execution_count": null,
      "outputs": []
    },
    {
      "cell_type": "markdown",
      "metadata": {
        "id": "Us5hNvcOBOOl"
      },
      "source": [
        "**Preprocessing**"
      ]
    },
    {
      "cell_type": "code",
      "metadata": {
        "id": "1rcb-ibNKK_z"
      },
      "source": [
        "dummy=pd.get_dummies(data.gender)\n",
        "data = pd.concat([data,dummy], axis=1)\n",
        "data.drop('gender', axis=1, inplace=True)\n",
        "data"
      ],
      "execution_count": null,
      "outputs": []
    },
    {
      "cell_type": "code",
      "metadata": {
        "id": "D41xWDFFQ1nU"
      },
      "source": [
        "data.head()"
      ],
      "execution_count": null,
      "outputs": []
    },
    {
      "cell_type": "code",
      "metadata": {
        "id": "73GH6soF_ltq"
      },
      "source": [
        "list=[]\n",
        "cols=data.columns[5:6].tolist()+data.columns[11:13].tolist()+data.columns[20:26].tolist() + data.columns[32:37].tolist()+data.columns[45:50].tolist()\n",
        "for col in cols:\n",
        "  for i in range(data.shape[0]):\n",
        "    list.append(re.findall('\\d+', data[col][i]))\n",
        "    data[col][i]=int((int(list[i][0])+int(list[i][1]))/2)\n",
        "  list.clear()\n",
        "data"
      ],
      "execution_count": null,
      "outputs": []
    },
    {
      "cell_type": "code",
      "metadata": {
        "id": "_bZYUYYB_3a_"
      },
      "source": [
        "dropcols=[\"d_shared_interests_o\",\"d_sports\",\"d_tvsports\",\"d_exercise\",\"d_dining\",\"d_museums\",\"d_art\",\"d_hiking\",\"d_gaming\",\"d_clubbing\",\"d_reading\",\"d_tv\",\"d_theater\",\"d_movies\",\"d_concerts\",\"d_music\",\"d_shopping\",\"d_yoga\",\"d_interests_correlate\",\"d_expected_happy_with_sd_people\",\"d_expected_num_interested_in_me\",\"d_expected_num_matches\",\"d_like\",\"d_guess_prob_liked\",\"d_attractive_partner\",\"d_sincere_partner\",\"d_intelligence_partner\",\"d_funny_partner\",\"d_ambition_partner\",\"d_shared_interests_partner\"]\n",
        "data=data.drop(dropcols,axis=1)"
      ],
      "execution_count": null,
      "outputs": []
    },
    {
      "cell_type": "code",
      "metadata": {
        "id": "HUBOyZkW_7hk"
      },
      "source": [
        "multi_hot = MultiLabelBinarizer()\n",
        "data[\"race\"]=multi_hot.fit_transform(data[\"race\"])\n",
        "data[\"race_o\"]=multi_hot.fit_transform(data[\"race_o\"])"
      ],
      "execution_count": null,
      "outputs": []
    },
    {
      "cell_type": "code",
      "metadata": {
        "id": "h0Zyty_TCyEw"
      },
      "source": [
        "data.head()"
      ],
      "execution_count": null,
      "outputs": []
    },
    {
      "cell_type": "markdown",
      "metadata": {
        "id": "eJ1TPCMvBWiB"
      },
      "source": [
        "**DATA SPLITTING**"
      ]
    },
    {
      "cell_type": "code",
      "metadata": {
        "id": "x7zYzuSq_9WT"
      },
      "source": [
        "x=pd.concat([data.iloc[:,0:91],data.iloc[:,92:]],axis=1)\n",
        "y=data.iloc[:,91:92]"
      ],
      "execution_count": null,
      "outputs": []
    },
    {
      "cell_type": "code",
      "metadata": {
        "id": "_z9FK5eI_-J-"
      },
      "source": [
        "X_train, X_test, y_train, y_test = train_test_split(x, y, test_size=0.3, random_state=41)"
      ],
      "execution_count": null,
      "outputs": []
    },
    {
      "cell_type": "code",
      "metadata": {
        "id": "yQXDTB-GAAFJ"
      },
      "source": [
        "X_train=X_train.select_dtypes(exclude=['object'])\n",
        "X_test=X_test.select_dtypes(exclude=['object'])"
      ],
      "execution_count": null,
      "outputs": []
    },
    {
      "cell_type": "code",
      "metadata": {
        "id": "eJNbE53vC5DN"
      },
      "source": [
        "print(X_train.shape)\n",
        "print(X_test.shape)\n",
        "print(y_train.shape)\n",
        "print(y_test.shape)"
      ],
      "execution_count": null,
      "outputs": []
    },
    {
      "cell_type": "markdown",
      "metadata": {
        "id": "adCuJAmxBcY4"
      },
      "source": [
        "**DECISION TREE MODELLING**"
      ]
    },
    {
      "cell_type": "code",
      "metadata": {
        "id": "kBLKkvoaACJR"
      },
      "source": [
        "model=DecisionTreeClassifier(random_state=0).fit(X_train,y_train)\n",
        "model"
      ],
      "execution_count": null,
      "outputs": []
    },
    {
      "cell_type": "code",
      "metadata": {
        "id": "rJdtp0P5AEDU"
      },
      "source": [
        "confusion_matrix(y_test, model.predict(X_test))\n",
        "precision_score(y_test, model.predict(X_test), average='macro')\n",
        "recall_score(y_test, model.predict(X_test), average='micro')"
      ],
      "execution_count": null,
      "outputs": []
    },
    {
      "cell_type": "markdown",
      "metadata": {
        "id": "Fw_HwhJuBn7x"
      },
      "source": [
        "**PLAYING WITH TREES**"
      ]
    },
    {
      "cell_type": "code",
      "metadata": {
        "id": "indpFnl-AGFT"
      },
      "source": [
        "model=DecisionTreeClassifier(criterion=\"entropy\",splitter=\"random\",max_depth=5 ,min_samples_split=3,min_weight_fraction_leaf=0.3,max_features=\"sqrt\").fit(X_train,y_train)\n",
        "model"
      ],
      "execution_count": null,
      "outputs": []
    },
    {
      "cell_type": "code",
      "metadata": {
        "id": "_CRQdvahA_Nq"
      },
      "source": [
        "print(confusion_matrix(y_test, model.predict(X_test)))\n",
        "print(precision_score(y_test, model.predict(X_test), average='macro'))\n",
        "print(recall_score(y_test, model.predict(X_test), average='micro'))"
      ],
      "execution_count": null,
      "outputs": []
    }
  ]
}